{
  "nbformat": 4,
  "nbformat_minor": 0,
  "metadata": {
    "colab": {
      "provenance": []
    },
    "kernelspec": {
      "name": "python3",
      "display_name": "Python 3"
    },
    "language_info": {
      "name": "python"
    }
  },
  "cells": [
    {
      "cell_type": "markdown",
      "source": [
        "# Data Science Tools and Ecosystem"
      ],
      "metadata": {
        "id": "_U1nRfptuHLS"
      }
    },
    {
      "cell_type": "markdown",
      "source": [
        "In this notebook, Data Science Tools and Ecosystem are summarized."
      ],
      "metadata": {
        "id": "PSeOkJI_uSZm"
      }
    },
    {
      "cell_type": "markdown",
      "source": [
        "**Objectives:**\n",
        "\n",
        "*   List popular languages for Data Science\n",
        "*   List commonly used libraries used by Data Scientists\n",
        "*   List Data Science Tools\n",
        "*   List a few examples of evaluating arithmetic expressions in Python\n",
        "\n"
      ],
      "metadata": {
        "id": "mJT34-U1ywFI"
      }
    },
    {
      "cell_type": "markdown",
      "source": [
        "Some of the popular languages that Data Scientists use are:\n",
        "\n",
        "1.   Python\n",
        "2.   R\n",
        "3.   SQL\n",
        "\n",
        "\n",
        "\n"
      ],
      "metadata": {
        "id": "p9wW9OJ9vfkf"
      }
    },
    {
      "cell_type": "markdown",
      "source": [
        "Some of the commonly used libraries used by Data Scientists include:\n",
        "\n",
        "1.   Pandas\n",
        "2.   Numpy\n",
        "3.   Matplotlib\n",
        "\n"
      ],
      "metadata": {
        "id": "dZoKqOOIv1FG"
      }
    },
    {
      "cell_type": "markdown",
      "source": [
        "Data Science Tools\n",
        "\n",
        "*   Git hub\n",
        "*   RstudioHadoop\n",
        "*   Hadoop\n",
        "\n",
        "\n",
        "\n",
        "\n",
        "\n"
      ],
      "metadata": {
        "id": "G3ic3rBRwP_a"
      }
    },
    {
      "cell_type": "markdown",
      "source": [
        "### Below are a few examples of evaluating arithmetic expressions in Python"
      ],
      "metadata": {
        "id": "UfSJVwLsxVyF"
      }
    },
    {
      "cell_type": "code",
      "source": [
        "#This a simple arithmetic expression to mutiply then add integers\n",
        "(3*4)+5"
      ],
      "metadata": {
        "colab": {
          "base_uri": "https://localhost:8080/"
        },
        "id": "YxIzUOKExsoT",
        "outputId": "46e06a0e-8fa6-45fa-e335-e741d5eadbdc"
      },
      "execution_count": 1,
      "outputs": [
        {
          "output_type": "execute_result",
          "data": {
            "text/plain": [
              "17"
            ]
          },
          "metadata": {},
          "execution_count": 1
        }
      ]
    },
    {
      "cell_type": "code",
      "source": [
        "#his will convert 200 minutes to hours by diving by 60\n",
        "hours=200/60\n",
        "hours"
      ],
      "metadata": {
        "colab": {
          "base_uri": "https://localhost:8080/"
        },
        "id": "pnHY8QuhyCTM",
        "outputId": "c8ca0e72-ca34-451a-c433-7e7bc7f30737"
      },
      "execution_count": 2,
      "outputs": [
        {
          "output_type": "execute_result",
          "data": {
            "text/plain": [
              "3.3333333333333335"
            ]
          },
          "metadata": {},
          "execution_count": 2
        }
      ]
    },
    {
      "cell_type": "markdown",
      "source": [
        "## Author\n",
        "Prarthna"
      ],
      "metadata": {
        "id": "TfNVt8ArzuAD"
      }
    }
  ]
}